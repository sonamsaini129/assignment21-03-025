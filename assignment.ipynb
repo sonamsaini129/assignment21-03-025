{
 "cells": [
  {
   "cell_type": "code",
   "execution_count": null,
   "id": "52ea61c6-1fde-4a9b-a1a1-d09c99a3b90d",
   "metadata": {},
   "outputs": [],
   "source": [
    "#run a loop (1,100) and print the cummlative sum\n",
    "sum=0\n",
    "list=[]\n",
    "for i in range(1,101):\n",
    "    sum=sum+i\n",
    "    list.append(sum)\n",
    "print(list)"
   ]
  },
  {
   "cell_type": "code",
   "execution_count": null,
   "id": "b3d3a658-3dfe-41b6-a50b-4e498ce950b0",
   "metadata": {},
   "outputs": [],
   "source": [
    "#take a input from user and check print all its factor\n",
    "\n",
    "n=int(input(\"enter a number\"))\n",
    "for i in range(1,n+1):\n",
    "        if(n%i==0):\n",
    "         print(i)"
   ]
  },
  {
   "cell_type": "code",
   "execution_count": 3,
   "id": "b59222df-8587-4444-a2dd-984b8b0d9911",
   "metadata": {},
   "outputs": [
    {
     "name": "stdin",
     "output_type": "stream",
     "text": [
      "enter a number 11\n"
     ]
    },
    {
     "name": "stdout",
     "output_type": "stream",
     "text": [
      "1\n",
      "11\n",
      "have more than 2 factor or two factors\n"
     ]
    }
   ],
   "source": [
    "#take a input from the user and check if the number has more than two factors\n",
    "\n",
    "count=0\n",
    "n=int(input(\"enter a number\"))\n",
    "for i in range(1,n+1):\n",
    "        if(n%i==0):\n",
    "            print(i)\n",
    "            count+=1\n",
    "if count>=2:\n",
    "    print(\"have more than 2 factor or two factors\")\n",
    "else:\n",
    "    print(\"less than 2 factor\")"
   ]
  },
  {
   "cell_type": "code",
   "execution_count": 4,
   "id": "d21bf898-d495-4ad0-a8c2-df960542ce03",
   "metadata": {},
   "outputs": [
    {
     "name": "stdout",
     "output_type": "stream",
     "text": [
      "[5, 21]\n"
     ]
    }
   ],
   "source": [
    "#add two list and add only odd numbers in a new list\n",
    "a=[10,14,5,16]\n",
    "b=[21,14,12,10]\n",
    "new_list=[]\n",
    "for i in a:\n",
    "    if(i%2!=0):\n",
    "        new_list.append(i)\n",
    "for i in b:\n",
    "    if(i%2!=0):\n",
    "        new_list.append(i)\n",
    "print(new_list)\n",
    "        "
   ]
  },
  {
   "cell_type": "code",
   "execution_count": null,
   "id": "42b3ef99-06f9-4481-8ac9-5a7a98c3a5f4",
   "metadata": {},
   "outputs": [],
   "source": [
    "#check a string for palindrome or not\n",
    "n=(input(\"Enter a number\"))\n",
    "rev=''\n",
    "for i in range(len(n)-1,-1,-1):\n",
    "    rev=rev+n[i]\n",
    "if rev==n:\n",
    "    print(\"palindrom\")\n",
    "else:\n",
    "    print(\"not palindrom\")"
   ]
  },
  {
   "cell_type": "code",
   "execution_count": null,
   "id": "28af3800-1984-41c2-891f-939ea7706cc9",
   "metadata": {},
   "outputs": [],
   "source": [
    "#write a program to check the LCM of two numbers\n",
    "\n",
    "first=int(input(\"Enter first number\"))\n",
    "second=int(input(\"enter second number\"))\n",
    "\n",
    "if (first>second):\n",
    "        print(\"first is larger,\",first)\n",
    "        larger=first\n",
    "else:\n",
    "         print(\"second is larger\",second) \n",
    "         larger=second\n",
    "    \n",
    "while True:\n",
    "\n",
    "  if(larger%first==0 and larger%second==0 ):\n",
    "     print(\"LCM is \",larger)\n",
    "     break\n",
    "  larger=larger+1 "
   ]
  },
  {
   "cell_type": "code",
   "execution_count": 15,
   "id": "37435dd3-3e97-41df-a5ce-ea9d39fbe8c5",
   "metadata": {},
   "outputs": [
    {
     "name": "stdin",
     "output_type": "stream",
     "text": [
      "Enter a number  5\n"
     ]
    },
    {
     "name": "stdout",
     "output_type": "stream",
     "text": [
      "120\n"
     ]
    }
   ],
   "source": [
    "#write a program to print factorial of a number \n",
    "\n",
    "n=int(input(\"Enter a number \"))\n",
    "mult=1\n",
    "for i in range(1,n+1):\n",
    "    mult=mult*i\n",
    "print(mult)\n",
    "    "
   ]
  },
  {
   "cell_type": "code",
   "execution_count": 2,
   "id": "5518ba20-9021-40fa-b79d-e5041c7a06b3",
   "metadata": {},
   "outputs": [
    {
     "ename": "_IncompleteInputError",
     "evalue": "incomplete input (3906015877.py, line 10)",
     "output_type": "error",
     "traceback": [
      "  \u001b[36mCell\u001b[39m\u001b[36m \u001b[39m\u001b[32mIn[2]\u001b[39m\u001b[32m, line 10\u001b[39m\n\u001b[31m    \u001b[39m\n    ^\n\u001b[31m_IncompleteInputError\u001b[39m\u001b[31m:\u001b[39m incomplete input\n"
     ]
    }
   ],
   "source": [
    "#take a list containg all the numbers sort the list find out the maximum and second higest from the list\n",
    "list=[3,4,5,6]\n",
    "new_list=[]\n",
    "for i in range(1,len(list)-1):\n",
    "    if([i]<[i]+1):\n",
    "        new_list.append(i)\n",
    "        print(i)\n",
    "    else:\n",
    "        \n",
    "        "
   ]
  },
  {
   "cell_type": "code",
   "execution_count": null,
   "id": "541949d7-532f-493e-bc11-a8ef5aed8d4f",
   "metadata": {},
   "outputs": [],
   "source": []
  }
 ],
 "metadata": {
  "kernelspec": {
   "display_name": "Python 3 (ipykernel)",
   "language": "python",
   "name": "python3"
  },
  "language_info": {
   "codemirror_mode": {
    "name": "ipython",
    "version": 3
   },
   "file_extension": ".py",
   "mimetype": "text/x-python",
   "name": "python",
   "nbconvert_exporter": "python",
   "pygments_lexer": "ipython3",
   "version": "3.13.2"
  }
 },
 "nbformat": 4,
 "nbformat_minor": 5
}
